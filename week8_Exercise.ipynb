{
 "cells": [
  {
   "cell_type": "markdown",
   "id": "322540df",
   "metadata": {},
   "source": [
    "# Weekly Activity"
   ]
  },
  {
   "cell_type": "code",
   "execution_count": 14,
   "id": "8913329c",
   "metadata": {},
   "outputs": [],
   "source": [
    "import sys\n",
    "assert sys.version_info >= (3, 7)\n",
    "\n",
    "import numpy as np\n",
    "import cv2 as cv\n",
    "from util_func import *"
   ]
  },
  {
   "cell_type": "markdown",
   "id": "2d2a046d",
   "metadata": {},
   "source": [
    "1. Experiment with different edge detectors: Sobel, Laplacian, Prewitt, Scharr derivatives and Canny operators (all with aperture size of 3) on image named 'pineapple.jfif'. Comment on the results."
   ]
  },
  {
   "cell_type": "code",
   "execution_count": 2,
   "id": "417dbfc6",
   "metadata": {},
   "outputs": [],
   "source": [
    "img = cv.imread('images/pineapple.jfif', 0)\n",
    "\n",
    "kernely = np.array([[1,1,1],[0,0,0],[-1,-1,-1]])\n",
    "kernelx = np.array([[-1,0,1],[-1,0,1],[-1,0,1]])\n",
    "\n",
    "\n",
    "# Apply different edge detectors\n",
    "sobel_x = cv.Sobel(img, cv.CV_64F, 1, 0, ksize=3)\n",
    "sobel_y = cv.Sobel(img, cv.CV_64F, 0, 1, ksize=3)\n",
    "laplacian = cv.Laplacian(img, cv.CV_64F, ksize=3)\n",
    "prewitt_x = cv.filter2D(img, -1, kernelx)\n",
    "prewitt_y = cv.filter2D(img, -1, kernely)\n",
    "scharr_x = cv.Scharr(img, cv.CV_64F, 1, 0)\n",
    "scharr_y = cv.Scharr(img, cv.CV_64F, 0, 1)\n",
    "canny = cv.Canny(img, 100, 200)\n",
    "\n",
    "\n",
    "cv.imshow('Original Image', img)\n",
    "cv.imshow('Sobel X', sobel_x)\n",
    "cv.imshow('Sobel Y', sobel_y)\n",
    "cv.imshow('Laplacian', laplacian)\n",
    "cv.imshow('Prewitt X', prewitt_x)\n",
    "cv.imshow('Prewitt Y', prewitt_y)\n",
    "cv.imshow('Scharr X', scharr_x)\n",
    "cv.imshow('Scharr Y', scharr_y)\n",
    "show_img('Canny', canny)"
   ]
  },
  {
   "cell_type": "markdown",
   "id": "6cb353bf",
   "metadata": {},
   "source": [
    "Sobel X: Vertical edges which contains high gradient is highlighted. Pineapple edges is not clearly shown due to the backgorund of land also high in gradient.\n",
    "\n",
    "Sobel Y: Horizontal edges which contains high gradient is highlighted. Pineapple edges is not clearly shown due to the backgorund of land also high in gradient.\n",
    "\n",
    "Laplacian: Almost every area with high intensity changes is highlighted. Messy edges formed.\n",
    "\n",
    "Prewitt X: Exclude most noises occurs in Sobel X. Highlight edges horizontally.\n",
    "\n",
    "Prewitt Y: Exclude most noises occurs in Sobel Y. Highlight edges horizontally.\n",
    "\n",
    "Scharr X: Almost same with Sobel X but have more accurate edges in detailed parts\n",
    "\n",
    "Scharr Y: Almost same with Sobel Y but have more accurate edges in detailed parts\n",
    "\n",
    "Canny: Thin, fine edges formed. Remove noises."
   ]
  },
  {
   "cell_type": "markdown",
   "id": "318e68ec",
   "metadata": {},
   "source": [
    "2. Write a program to identify the white object (probably laptop) present in the image 'electronic.jfif'. Draw bounding boxes on the objects."
   ]
  },
  {
   "cell_type": "code",
   "execution_count": 29,
   "id": "a2c67714",
   "metadata": {},
   "outputs": [],
   "source": [
    "img = cv.imread('images/electronic.jfif')\n",
    "blur = cv.GaussianBlur(img, (3, 3), 0)\n",
    "gray = cv.cvtColor(blur, cv.COLOR_BGR2GRAY)\n",
    "_, thresholded = cv.threshold(gray, 190, 255, cv.THRESH_BINARY)\n",
    "contours, _ = cv.findContours(thresholded, cv.RETR_EXTERNAL, cv.CHAIN_APPROX_SIMPLE)\n",
    "\n",
    "for contour in contours:\n",
    "    x, y, w, h = cv.boundingRect(contour)\n",
    "    if w * h > 200:\n",
    "        cv.rectangle(img, (x, y), (x + w, y + h), (0, 255, 0), 2)\n",
    "\n",
    "show_img('img', img)"
   ]
  },
  {
   "cell_type": "markdown",
   "id": "5284ac6e",
   "metadata": {},
   "source": [
    "3. Isolate the clock with the aid of edge detection and contours' properties. The example result should be as follows:"
   ]
  },
  {
   "cell_type": "code",
   "execution_count": 2,
   "id": "c5597395",
   "metadata": {},
   "outputs": [],
   "source": [
    "def auto_canny(img, method, sigma=0.33):\n",
    "    \"\"\"Args:\n",
    "    img: grayscale image\n",
    "    method: median, otsu, triangle\n",
    "    sigma: 0.33 (default)\"\"\"\n",
    "    \n",
    "    if method == \"median\":\n",
    "        Th = np.median(img)\n",
    "        \n",
    "    elif method == \"triangle\":\n",
    "        Th = cv.threshold(img, 0, 255, cv.THRESH_TRIANGLE)[0]\n",
    "        \n",
    "    elif method == \"otsu\":\n",
    "        Th = cv.threshold(img, 0, 255, cv.THRESH_OTSU)[0]\n",
    "        \n",
    "    Thresh1 = (1-sigma) * Th\n",
    "    Thresh2 = (1+sigma) * Th\n",
    "    \n",
    "    return cv.Canny(img, Thresh1, Thresh2)"
   ]
  },
  {
   "cell_type": "code",
   "execution_count": 17,
   "id": "4568ee17",
   "metadata": {},
   "outputs": [],
   "source": [
    "img = cv.imread('images/clock.jpg')\n",
    "\n",
    "factor = 300 / img.shape[1]\n",
    "img = cv.resize(img, None, fx=factor, fy=factor)\n",
    "gray = cv.cvtColor(img, cv.COLOR_BGR2GRAY)\n",
    "blur = cv.bilateralFilter(gray, 7, 19, 13)\n",
    "edge = auto_canny(blur, method=\"otsu\")\n",
    "\n",
    "contours, _ = cv.findContours(edge, cv.RETR_TREE, cv.CHAIN_APPROX_SIMPLE)\n",
    "\n",
    "# sort the contour with respect to contour area in descending order\n",
    "contours = sorted(contours, key=cv.contourArea, reverse=True)[:5]\n",
    "\n",
    "for c in contours:\n",
    "    perimeter = cv.arcLength(c, True)\n",
    "    area = cv.contourArea(c)\n",
    "    circularity = 4 * np.pi * area / (perimeter * perimeter)\n",
    "    if 0.7 < circularity < 1.3:\n",
    "        screen = c\n",
    "        break\n",
    "        \n",
    "img_copy = img.copy()\n",
    "cv.drawContours(img_copy, [screen], -1, (0, 255, 2), 2)\n",
    "show_img(\"contour\", img_copy)\n"
   ]
  },
  {
   "cell_type": "code",
   "execution_count": null,
   "id": "d60e9d63",
   "metadata": {},
   "outputs": [],
   "source": []
  }
 ],
 "metadata": {
  "kernelspec": {
   "display_name": "Python 3 (ipykernel)",
   "language": "python",
   "name": "python3"
  },
  "language_info": {
   "codemirror_mode": {
    "name": "ipython",
    "version": 3
   },
   "file_extension": ".py",
   "mimetype": "text/x-python",
   "name": "python",
   "nbconvert_exporter": "python",
   "pygments_lexer": "ipython3",
   "version": "3.10.9"
  }
 },
 "nbformat": 4,
 "nbformat_minor": 5
}
